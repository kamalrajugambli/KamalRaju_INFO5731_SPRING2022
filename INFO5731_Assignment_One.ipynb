{
  "cells": [
    {
      "cell_type": "markdown",
      "metadata": {
        "id": "view-in-github",
        "colab_type": "text"
      },
      "source": [
        "<a href=\"https://colab.research.google.com/github/kamalrajugambli/KamalRaju_INFO5731_SPRING2022/blob/main/INFO5731_Assignment_One.ipynb\" target=\"_parent\"><img src=\"https://colab.research.google.com/assets/colab-badge.svg\" alt=\"Open In Colab\"/></a>"
      ]
    },
    {
      "cell_type": "markdown",
      "metadata": {
        "id": "Ryk8D1Q4Wsrp"
      },
      "source": [
        "# **INFO5731 Assignment One**"
      ]
    },
    {
      "cell_type": "markdown",
      "metadata": {
        "id": "90_NR8c5XGWc"
      },
      "source": [
        "# Question 1\n",
        "\n",
        "(20 points). Write a Python program to generate 12 random numbers between 1 and 100. Sort the list of numbers in ascending order and print it out. Sort the list of numbers in descending order and print it out. Calculate the average for the group and print it out."
      ]
    },
    {
      "cell_type": "code",
      "execution_count": 20,
      "metadata": {
        "colab": {
          "base_uri": "https://localhost:8080/"
        },
        "id": "5QX6bJjGWXY9",
        "outputId": "ce02643c-892e-4707-ffc1-f619604c513a"
      },
      "outputs": [
        {
          "output_type": "stream",
          "name": "stdout",
          "text": [
            "List of numbers in Ascending order{}: [9, 12, 23, 26, 26, 34, 36, 44, 52, 68, 80, 91]\n",
            "List of numbers in Descending order{}: [91, 80, 68, 52, 44, 36, 34, 26, 26, 23, 12, 9]\n",
            "Average of group of Numbers in list{}: 41.75\n"
          ]
        }
      ],
      "source": [
        "# Your code here\n",
        "import random \n",
        "  \n",
        "ascending=[]\n",
        "descending=[]\n",
        "sum=0\n",
        "\n",
        "for i in range(0,12):\n",
        "  n=random.randint(1,101)\n",
        "  sum=sum+n\n",
        "  ascending.append(n)\n",
        "  descending.append(n)\n",
        "  ascending.sort()\n",
        "  descending.sort(reverse=True)\n",
        "  \n",
        "  \n",
        "avg=sum/12\n",
        "print(\"List of numbers in Ascending order{}:\",format(ascending))\n",
        "print(\"List of numbers in Descending order{}:\",format(descending))\n",
        "print(\"Average of group of Numbers in list{}:\",format(avg))\n"
      ]
    },
    {
      "cell_type": "markdown",
      "metadata": {
        "id": "1F_PZdH9Sh49"
      },
      "source": [
        "# Question 2\n",
        "(25 points). Write a program that will do the following string formatting tasks:\n",
        "\n",
        "(1) Ask the user to enter two sentences.\n",
        "\n",
        "(2) Make each sentence into a list. Each element in the list should correspond to a word in the sentence. For example, if the sentence is \"Alas! Am I alive? This is my first python program\", the program should print out ['Alas, '!', 'Am', 'I', 'alive, '?', 'This', 'is', 'my', 'first', 'python', 'program'].\n",
        "\n",
        "(3) Compare the two sentences. Print out a list of words that occur in both sentences.\n",
        "\n",
        "(4) Remove any punctuation from the sentence and print it back out. It should remove at least the following characters, but it can remove more: period(“.”), comma (“,”), semicolon (“;”), and colon (“:”)\n",
        "\n",
        "(5) Count the number of vowels in the sentences. Print out each vowel and the number of times it appears in the sentences, such as: a:2, e:1, i:0, etc"
      ]
    },
    {
      "cell_type": "code",
      "execution_count": 7,
      "metadata": {
        "colab": {
          "base_uri": "https://localhost:8080/"
        },
        "id": "Y0oOSlsOS0cq",
        "outputId": "035d9b4a-20c8-4e24-8b00-c6f397df23de"
      },
      "outputs": [
        {
          "output_type": "stream",
          "name": "stdout",
          "text": [
            "Enter the first sentence: OMG! Is Kamal is good boy?\n",
            "Enter the second sentence: Is Nitish a Amigo? Really!\n",
            "List form of first sentence: ['OMG', '!', 'Is', 'Kamal', 'is', 'good', 'boy', '?']\n",
            "List form of Second sentence : ['Is', 'Nitish', 'a', 'Amigo', '?', 'Really', '!']\n",
            "\n",
            "list of the words which occur in both the sentences:\n",
            "!\n",
            "Is\n",
            "is\n",
            "?\n",
            "\n",
            "Following are the common words without punctuation\n",
            "Is\n",
            "is\n",
            "\n",
            " Number of vowels in the first string: {'a': 2, 'e': 0, 'i': 2, 'o': 4, 'u': 0}\n",
            "\n",
            " Number of vowels in the second string: {'a': 3, 'e': 1, 'i': 4, 'o': 1, 'u': 0}\n"
          ]
        }
      ],
      "source": [
        "# Your code here\n",
        "\n",
        "import string\n",
        "import re\n",
        "sentence1 = input(\"Enter the first sentence: \")\n",
        "sentence2 = input(\"Enter the second sentence: \")\n",
        "a = re.findall(r\"[\\w']+|[.,!?;:]\", sentence1)\n",
        "b = re.findall(r\"[\\w']+|[.,!?;:]\", sentence2)\n",
        "print(\"List form of first sentence:\",a)\n",
        "print(\"List form of Second sentence :\",b)\n",
        "print(\"\\nlist of the words which occur in both the sentences:\")\n",
        "for c in a:\n",
        " for c2 in b:\n",
        "  if c.lower() == c2.lower():\n",
        "   print(c)\n",
        "print(\"\\nFollowing are the common words without punctuation\")\n",
        "for c in a:\n",
        " for c2 in b:\n",
        "  if c.lower() == c2.lower() and c not in string.punctuation:\n",
        "   print(c)\n",
        "vowels1 = {'a':0, 'e':0, 'i':0, 'o':0, 'u':0}\n",
        "for l in sentence1:\n",
        " if l.lower() in vowels1:\n",
        "  vowels1[l.lower()] += 1\n",
        "print(\"\\n Number of vowels in the first string:\",vowels1)\n",
        "vowels2 = {'a':0, 'e':0, 'i':0, 'o':0, 'u':0}\n",
        "for l2 in sentence2:\n",
        " if l2.lower() in vowels2:\n",
        "  vowels2[l2.lower()] += 1\n",
        "print(\"\\n Number of vowels in the second string:\",vowels2)"
      ]
    },
    {
      "cell_type": "markdown",
      "metadata": {
        "id": "CmFoI4jDS9nx"
      },
      "source": [
        "# Question 3 \n",
        "\n",
        "(15 points). The formula that describes the volume V of a sphere with radius r is the following:\n",
        "\n",
        "$ V=\\frac{4}{3}\\ast\\ \\pi\\ast\\ r^3 $\n",
        "\n",
        "Write a program to calculate the value of V when r is in the range of 1–10. Output the result in the following format:\n",
        "\n",
        "\tr\tV\n",
        "\t1\t…\n",
        "\t2\t…\n",
        "\t3\t…\n"
      ]
    },
    {
      "cell_type": "code",
      "execution_count": 4,
      "metadata": {
        "colab": {
          "base_uri": "https://localhost:8080/"
        },
        "id": "pEyqeioAT95b",
        "outputId": "4d9e292d-07c7-4768-c731-83ffaa1a4029"
      },
      "outputs": [
        {
          "output_type": "stream",
          "name": "stdout",
          "text": [
            "r v\n",
            "1 4.1866666666666665\n",
            "2 33.49333333333333\n",
            "3 113.03999999999999\n",
            "4 267.94666666666666\n",
            "5 523.3333333333334\n",
            "6 904.3199999999999\n",
            "7 1436.0266666666666\n",
            "8 2143.5733333333333\n",
            "9 3052.08\n",
            "10 4186.666666666667\n"
          ]
        }
      ],
      "source": [
        "# Your code here\n",
        "import math\n",
        "pi=3.14\n",
        "print(\"r\",\"v\")\n",
        "for r in range(1,11):\n",
        "    v=(4/3)*pi*pow(r,3)\n",
        "    print(r,v)"
      ]
    },
    {
      "cell_type": "markdown",
      "metadata": {
        "id": "z3tBE7E-Xn5X"
      },
      "source": [
        "# Question 4\n",
        "\n",
        "(40 points). In the field of Data Science, data is often formatted as a comma-delimited (CSV) file, where each line in a file corresponds to a field's value. Refer to Chapter 9 (p. 106) for more information on comma-delimited files. To answer this question, you will need to download the file [Assignment1_denton_housing.csv](https://raw.githubusercontent.com/unt-iialab/info5731-spring2022/main/assignments/Assignment1_denton_housing.csv) included with this assignment. The file [Assignment1_denton_housing.csv](https://raw.githubusercontent.com/unt-iialab/info5731-spring2022/main/assignments/Assignment1_denton_housing.csv) contains statistics about housing in the city of Denton from 2008 to 2014. Write a program to implement the following questions.\n",
        "\n",
        "(1) (10 pts) Calculate the difference in the number of Occupied Housing Units from year to year and print it. The difference must be calculated for the consecutive years such as 2008-2009, 2009-2010 etc. Finally, print the values in the ascending order.\n",
        "\n",
        "(2) (10 pts) For all the years, calculate the percentage of housing units which are vacant an occupied. Print the results in the following format:\n",
        "\n",
        "Year Vacant Housing Units Occupied Housing Units\n",
        "\n",
        "    2008  30%   70%                          \n",
        "\t2009 ----- -----\n",
        "\t2010 ----- -----\n",
        "    2011 ----- -----\n",
        "\t2012 ----- -----\n",
        "    2013 ----- -----\n",
        "\t2014 ----- -----\n",
        "  \n",
        "  \n",
        "\n",
        "(3) (10 pts) Calculate and print the valued and years in which the highest number of housing units were vacant and occupied. Print the results in the following format:  \n",
        "\n",
        "                              Year\tValue\n",
        "\tVacant Housing Units\t  -----   -----\n",
        "\tOccupied Housing Units\t-----   -----\n",
        "\n",
        "(4) (10 pts) Calculate the harmonic mean of the total housing units and print it out. You can find the information about harmonic mean here: https://ncalculators.com/statistics/harmonic-mean-calculator.htm"
      ]
    },
    {
      "cell_type": "code",
      "execution_count": 15,
      "metadata": {
        "colab": {
          "base_uri": "https://localhost:8080/"
        },
        "id": "lqGYuHBhcsRH",
        "outputId": "3ba338c6-4ac9-48cd-a914-6682002aa8df"
      },
      "outputs": [
        {
          "output_type": "stream",
          "name": "stdout",
          "text": [
            "2008 - 2009 : 795\n",
            "2009 - 2010 : 5091\n",
            "2010 - 2011 : 303\n",
            "2011 - 2012 : 1404\n",
            "2012 - 2013 : 1565\n",
            "2013 - 2014 : 2622\n",
            "Sorting values in ascending order: [303, 795, 1404, 1565, 2622, 5091]\n",
            "year :-  vacant%   occupied%\n",
            "2008 :- 11  \t\t89\n",
            "2009 :- 9  \t\t91\n",
            "2010 :- 8  \t\t92\n",
            "2011 :- 9  \t\t91\n",
            "2012 :- 7  \t\t93\n",
            "2013 :- 9  \t\t91\n",
            "2014 :- 6  \t\t94\n",
            "                        Year     Value\n",
            " Vacant Housing Units:   2014     46295\n",
            " Occupied Housing Units: 2008     4483\n",
            "harmonic mean of total housing units 44398.28543969185\n"
          ]
        }
      ],
      "source": [
        "# Your code here\n",
        "masterFile = {}\n",
        "num = 0\n",
        "with open('Assignment1_denton_housing1.txt', 'r') as k:\n",
        "    for line in k:\n",
        "        if num == 0:\n",
        "            num += 1\n",
        "            continue\n",
        "        else:\n",
        "            year, field, value = line.split(',')\n",
        "            if year not in masterFile.keys():\n",
        "                masterFile[year] = [(field, value)]\n",
        "            else:\n",
        "                masterFile[year].append((field, value))\n",
        "years = [int(x) for x in masterFile.keys()]\n",
        "years.sort()\n",
        "# %% Calculate number of occupied housing units from year to year\n",
        "values = []\n",
        "for i in range(len(years)):\n",
        "    if i+1 == len(years):\n",
        "        break\n",
        "    for item in masterFile[str(years[i])]:\n",
        "        if item[0] == 'Occupied Housing Units':\n",
        "            val1 = item[1]\n",
        "    for item in masterFile[str(years[i+1])]:\n",
        "        if item[0] == 'Occupied Housing Units':\n",
        "            val2 = item[1]\n",
        "    string = '{0} - {1} : {2}'.format(years[i],\n",
        "                                      years[i+1], abs(int(val2)-int(val1)))\n",
        "    print(string)\n",
        "    values.append(abs(int(val2)-int(val1)))\n",
        "values.sort()\n",
        "print(\"Sorting values in ascending order:\",values)\n",
        "# %% of housing units which are vacant and occupied\n",
        "print('year :-  vacant%   occupied%')\n",
        "for i in years:\n",
        "    for item in masterFile[str(i)]:\n",
        "        if item[0] == 'Total Housing Units':\n",
        "            val1 = item[1]\n",
        "        if item[0] == 'Occupied Housing Units':\n",
        "            val2 = item[1]\n",
        "        if item[0] == 'Vacant Housing Units':\n",
        "            val3 = item[1]\n",
        "    string = '{0} :- {1}  \\t\\t{2}'.format(i, round(int(val3)/int(val1)\n",
        "                                      * 100), round(int(val2)/int(val1)*100))\n",
        "    print(string)\n",
        "# %%print highest number of housing units were vacant and occupied\n",
        "maxVacant = 0\n",
        "maxOccupied = 0\n",
        "maxVacantYear = 0\n",
        "maxOccupiedYear = 0\n",
        "for i in years:\n",
        "    for item in masterFile[str(i)]:\n",
        "        if item[0] == 'Occupied Housing Units':\n",
        "            if int(item[1]) > maxOccupied:\n",
        "                maxOccupied = int(item[1])\n",
        "                maxOccupiedYear = i\n",
        "        if item[0] == 'Vacant Housing Units':\n",
        "            if int(item[1]) > maxVacant:\n",
        "                maxVacant = int(item[1])\n",
        "                maxVacantYear = i\n",
        "print(\"                        Year     Value\")\n",
        "print(' Vacant Housing Units:   {}     {}'.format(maxOccupiedYear, maxOccupied))\n",
        "    \n",
        "print(' Occupied Housing Units: {}     {}'.format(maxVacantYear, maxVacant))\n",
        "# %% calculating harmonic mean of total housing units\n",
        "s1=0\n",
        "for i in years:\n",
        "  for item in masterFile[str(i)]:\n",
        "    if item[0] == 'Total Housing Units':\n",
        "      s1=s1+(1/int(item[1]))\n",
        "print('harmonic mean of total housing units {}'.format(len(years)/s1))\n",
        "\n"
      ]
    }
  ],
  "metadata": {
    "colab": {
      "collapsed_sections": [],
      "name": "INFO5731_Assignment_One.ipynb",
      "provenance": [],
      "include_colab_link": true
    },
    "kernelspec": {
      "display_name": "Python 3",
      "language": "python",
      "name": "python3"
    },
    "language_info": {
      "codemirror_mode": {
        "name": "ipython",
        "version": 3
      },
      "file_extension": ".py",
      "mimetype": "text/x-python",
      "name": "python",
      "nbconvert_exporter": "python",
      "pygments_lexer": "ipython3",
      "version": "3.8.5"
    }
  },
  "nbformat": 4,
  "nbformat_minor": 0
}