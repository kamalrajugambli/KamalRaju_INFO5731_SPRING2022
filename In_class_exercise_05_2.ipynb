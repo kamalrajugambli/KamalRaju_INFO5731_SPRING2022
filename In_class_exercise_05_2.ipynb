{
  "cells": [
    {
      "cell_type": "markdown",
      "metadata": {
        "id": "view-in-github",
        "colab_type": "text"
      },
      "source": [
        "<a href=\"https://colab.research.google.com/github/kamalrajugambli/KamalRaju_INFO5731_SPRING2022/blob/main/In_class_exercise_05_2.ipynb\" target=\"_parent\"><img src=\"https://colab.research.google.com/assets/colab-badge.svg\" alt=\"Open In Colab\"/></a>"
      ]
    },
    {
      "cell_type": "markdown",
      "metadata": {
        "id": "Of64yRDMVS1I"
      },
      "source": [
        "# **The fifth in-class-exercise (40 points in total, 04/12/2022)**"
      ]
    },
    {
      "cell_type": "markdown",
      "metadata": {
        "id": "TphZt9kZVS1P"
      },
      "source": [
        "(20 points) The purpose of the question is to practice different machine learning algorithms for text classification as well as the performance evaluation. In addition, you are requried to conduct *10 fold cross validation (https://scikit-learn.org/stable/modules/cross_validation.html)* in the training. \n",
        "\n",
        "The dataset can be download from here: https://github.com/unt-iialab/info5731-spring2022/blob/main/assignments/exercise05_datacollection.zip. The dataset contains two files train data and test data for sentiment analysis in IMDB review, it has two categories: 1 represents positive and 0 represents negative. You need to split the training data into training and validate data (80% for training and 20% for validation, https://towardsdatascience.com/train-test-split-and-cross-validation-in-python-80b61beca4b6) and perform 10 fold cross validation while training the classifier. The final trained model was final evaluated on the test data. \n",
        "\n",
        "Algorithms:\n",
        "\n",
        "(1) MultinominalNB\n",
        "\n",
        "(2) SVM \n",
        "\n",
        "(3) KNN \n",
        "\n",
        "(4) Decision tree\n",
        "\n",
        "(5) Random Forest\n",
        "\n",
        "(6) XGBoost\n",
        "\n",
        "Evaluation measurement:\n",
        "\n",
        "(1) Accuracy\n",
        "\n",
        "(2) Recall\n",
        "\n",
        "(3) Precison \n",
        "\n",
        "(4) F-1 score"
      ]
    },
    {
      "cell_type": "code",
      "execution_count": 1,
      "metadata": {
        "colab": {
          "base_uri": "https://localhost:8080/",
          "height": 261
        },
        "id": "UIxzlGrpVS1S",
        "outputId": "a5f2568e-7bf8-489b-ec09-35159c688571"
      },
      "outputs": [
        {
          "output_type": "stream",
          "name": "stderr",
          "text": [
            "/usr/local/lib/python3.7/dist-packages/pandas/util/_decorators.py:311: ParserWarning: Falling back to the 'python' engine because the 'c' engine does not support regex separators (separators > 1 char and different from '\\s+' are interpreted as regex); you can avoid this warning by specifying engine='python'.\n",
            "  return func(*args, **kwargs)\n"
          ]
        },
        {
          "output_type": "execute_result",
          "data": {
            "text/plain": [
              "                                                Text Sentiment\n",
              "0  a stirring , funny and finally transporting re...         1\n",
              "1  apparently reassembled from the cutting-room f...         0\n",
              "2  they presume their audience wo n't sit still f...         0\n",
              "3  this is a visually stunning rumination on love...         1\n",
              "4  jonathan parker 's bartleby should have been t...         1"
            ],
            "text/html": [
              "\n",
              "  <div id=\"df-38f9c018-76cc-42c4-9ff9-839299ed3829\">\n",
              "    <div class=\"colab-df-container\">\n",
              "      <div>\n",
              "<style scoped>\n",
              "    .dataframe tbody tr th:only-of-type {\n",
              "        vertical-align: middle;\n",
              "    }\n",
              "\n",
              "    .dataframe tbody tr th {\n",
              "        vertical-align: top;\n",
              "    }\n",
              "\n",
              "    .dataframe thead th {\n",
              "        text-align: right;\n",
              "    }\n",
              "</style>\n",
              "<table border=\"1\" class=\"dataframe\">\n",
              "  <thead>\n",
              "    <tr style=\"text-align: right;\">\n",
              "      <th></th>\n",
              "      <th>Text</th>\n",
              "      <th>Sentiment</th>\n",
              "    </tr>\n",
              "  </thead>\n",
              "  <tbody>\n",
              "    <tr>\n",
              "      <th>0</th>\n",
              "      <td>a stirring , funny and finally transporting re...</td>\n",
              "      <td>1</td>\n",
              "    </tr>\n",
              "    <tr>\n",
              "      <th>1</th>\n",
              "      <td>apparently reassembled from the cutting-room f...</td>\n",
              "      <td>0</td>\n",
              "    </tr>\n",
              "    <tr>\n",
              "      <th>2</th>\n",
              "      <td>they presume their audience wo n't sit still f...</td>\n",
              "      <td>0</td>\n",
              "    </tr>\n",
              "    <tr>\n",
              "      <th>3</th>\n",
              "      <td>this is a visually stunning rumination on love...</td>\n",
              "      <td>1</td>\n",
              "    </tr>\n",
              "    <tr>\n",
              "      <th>4</th>\n",
              "      <td>jonathan parker 's bartleby should have been t...</td>\n",
              "      <td>1</td>\n",
              "    </tr>\n",
              "  </tbody>\n",
              "</table>\n",
              "</div>\n",
              "      <button class=\"colab-df-convert\" onclick=\"convertToInteractive('df-38f9c018-76cc-42c4-9ff9-839299ed3829')\"\n",
              "              title=\"Convert this dataframe to an interactive table.\"\n",
              "              style=\"display:none;\">\n",
              "        \n",
              "  <svg xmlns=\"http://www.w3.org/2000/svg\" height=\"24px\"viewBox=\"0 0 24 24\"\n",
              "       width=\"24px\">\n",
              "    <path d=\"M0 0h24v24H0V0z\" fill=\"none\"/>\n",
              "    <path d=\"M18.56 5.44l.94 2.06.94-2.06 2.06-.94-2.06-.94-.94-2.06-.94 2.06-2.06.94zm-11 1L8.5 8.5l.94-2.06 2.06-.94-2.06-.94L8.5 2.5l-.94 2.06-2.06.94zm10 10l.94 2.06.94-2.06 2.06-.94-2.06-.94-.94-2.06-.94 2.06-2.06.94z\"/><path d=\"M17.41 7.96l-1.37-1.37c-.4-.4-.92-.59-1.43-.59-.52 0-1.04.2-1.43.59L10.3 9.45l-7.72 7.72c-.78.78-.78 2.05 0 2.83L4 21.41c.39.39.9.59 1.41.59.51 0 1.02-.2 1.41-.59l7.78-7.78 2.81-2.81c.8-.78.8-2.07 0-2.86zM5.41 20L4 18.59l7.72-7.72 1.47 1.35L5.41 20z\"/>\n",
              "  </svg>\n",
              "      </button>\n",
              "      \n",
              "  <style>\n",
              "    .colab-df-container {\n",
              "      display:flex;\n",
              "      flex-wrap:wrap;\n",
              "      gap: 12px;\n",
              "    }\n",
              "\n",
              "    .colab-df-convert {\n",
              "      background-color: #E8F0FE;\n",
              "      border: none;\n",
              "      border-radius: 50%;\n",
              "      cursor: pointer;\n",
              "      display: none;\n",
              "      fill: #1967D2;\n",
              "      height: 32px;\n",
              "      padding: 0 0 0 0;\n",
              "      width: 32px;\n",
              "    }\n",
              "\n",
              "    .colab-df-convert:hover {\n",
              "      background-color: #E2EBFA;\n",
              "      box-shadow: 0px 1px 2px rgba(60, 64, 67, 0.3), 0px 1px 3px 1px rgba(60, 64, 67, 0.15);\n",
              "      fill: #174EA6;\n",
              "    }\n",
              "\n",
              "    [theme=dark] .colab-df-convert {\n",
              "      background-color: #3B4455;\n",
              "      fill: #D2E3FC;\n",
              "    }\n",
              "\n",
              "    [theme=dark] .colab-df-convert:hover {\n",
              "      background-color: #434B5C;\n",
              "      box-shadow: 0px 1px 3px 1px rgba(0, 0, 0, 0.15);\n",
              "      filter: drop-shadow(0px 1px 2px rgba(0, 0, 0, 0.3));\n",
              "      fill: #FFFFFF;\n",
              "    }\n",
              "  </style>\n",
              "\n",
              "      <script>\n",
              "        const buttonEl =\n",
              "          document.querySelector('#df-38f9c018-76cc-42c4-9ff9-839299ed3829 button.colab-df-convert');\n",
              "        buttonEl.style.display =\n",
              "          google.colab.kernel.accessAllowed ? 'block' : 'none';\n",
              "\n",
              "        async function convertToInteractive(key) {\n",
              "          const element = document.querySelector('#df-38f9c018-76cc-42c4-9ff9-839299ed3829');\n",
              "          const dataTable =\n",
              "            await google.colab.kernel.invokeFunction('convertToInteractive',\n",
              "                                                     [key], {});\n",
              "          if (!dataTable) return;\n",
              "\n",
              "          const docLinkHtml = 'Like what you see? Visit the ' +\n",
              "            '<a target=\"_blank\" href=https://colab.research.google.com/notebooks/data_table.ipynb>data table notebook</a>'\n",
              "            + ' to learn more about interactive tables.';\n",
              "          element.innerHTML = '';\n",
              "          dataTable['output_type'] = 'display_data';\n",
              "          await google.colab.output.renderOutput(dataTable, element);\n",
              "          const docLink = document.createElement('div');\n",
              "          docLink.innerHTML = docLinkHtml;\n",
              "          element.appendChild(docLink);\n",
              "        }\n",
              "      </script>\n",
              "    </div>\n",
              "  </div>\n",
              "  "
            ]
          },
          "metadata": {},
          "execution_count": 1
        }
      ],
      "source": [
        "import re\n",
        "from nltk.corpus import stopwords\n",
        "from nltk.stem import PorterStemmer\n",
        "from textblob import Word\n",
        "import pandas as pd\n",
        "import nltk\n",
        "import pandas as pd\n",
        "from sklearn.metrics import accuracy_score, classification_report\n",
        "from sklearn.naive_bayes import MultinomialNB\n",
        "from sklearn.neighbors import KNeighborsClassifier\n",
        "from sklearn.svm import LinearSVC\n",
        "from sklearn.tree import DecisionTreeClassifier\n",
        "from sklearn.ensemble import RandomForestClassifier\n",
        "from sklearn.model_selection import train_test_split, cross_validate, StratifiedKFold, KFold, cross_val_score\n",
        "from xgboost import XGBClassifier\n",
        "train_df = pd.read_csv(r'/content/stsa-train.txt',sep = 'delimiter=',header= None,names=['Text'])\n",
        "train_df[['Sentiment','Text']] = train_df[\"Text\"].str.split(\" \", 1, expand=True)\n",
        "test_df = pd.read_csv(r'/content/stsa-test.txt',sep = 'delimiter=',header= None,names=['Text'])\n",
        "test_df[['Sentiment','Text']] = test_df[\"Text\"].str.split(\" \", 1, expand=True)\n",
        "train_df.head()\n",
        "\n",
        "\n"
      ]
    },
    {
      "cell_type": "code",
      "source": [
        "#data cleaning process\n",
        "import nltk\n",
        "import re\n",
        "import string\n",
        "nltk.download('stopwords')\n",
        "nltk.download('wordnet')\n",
        "stopword=nltk.corpus.stopwords.words('english')\n",
        "from nltk.stem import WordNetLemmatizer\n",
        "wl= WordNetLemmatizer()\n",
        "def clean_text(data):\n",
        "  data=\"\".join([word.lower() for word in data if word not in string.punctuation])\n",
        "  data = re.sub(\"^\\d+\\s|\\s\\d+\\s|\\s\\d+$\", \" \", data)\n",
        "  tokens = re.split('\\W+',data)\n",
        "  data = [wl.lemmatize(word) for word in tokens if word not in stopword]\n",
        "  return data"
      ],
      "metadata": {
        "colab": {
          "base_uri": "https://localhost:8080/"
        },
        "id": "H24MsQDyXN0K",
        "outputId": "b4c1a268-f285-4e2e-b474-6f6f0719507d"
      },
      "execution_count": 2,
      "outputs": [
        {
          "output_type": "stream",
          "name": "stdout",
          "text": [
            "[nltk_data] Downloading package stopwords to /root/nltk_data...\n",
            "[nltk_data]   Unzipping corpora/stopwords.zip.\n",
            "[nltk_data] Downloading package wordnet to /root/nltk_data...\n",
            "[nltk_data]   Unzipping corpora/wordnet.zip.\n"
          ]
        }
      ]
    },
    {
      "cell_type": "code",
      "source": [
        "# Converting the data into numerical\n",
        "from sklearn.feature_extraction.text import TfidfVectorizer\n",
        "tfidf_vect = TfidfVectorizer(analyzer = clean_text)\n",
        "X_tfidf = tfidf_vect.fit_transform(train_df['Text'])\n",
        "print(X_tfidf.shape)\n",
        "X_tfidf_df=pd.DataFrame(X_tfidf.toarray())\n",
        "X_tfidf_df.columns=tfidf_vect.get_feature_names()\n",
        "X_test_tfidf = tfidf_vect.transform(test_df['Text'])\n",
        "print(X_test_tfidf.shape)"
      ],
      "metadata": {
        "colab": {
          "base_uri": "https://localhost:8080/"
        },
        "id": "ERNewNRKXYc3",
        "outputId": "2078877f-fe87-46cf-8f23-35d52a298732"
      },
      "execution_count": 3,
      "outputs": [
        {
          "output_type": "stream",
          "name": "stdout",
          "text": [
            "(6920, 13343)\n"
          ]
        },
        {
          "output_type": "stream",
          "name": "stderr",
          "text": [
            "/usr/local/lib/python3.7/dist-packages/sklearn/utils/deprecation.py:87: FutureWarning: Function get_feature_names is deprecated; get_feature_names is deprecated in 1.0 and will be removed in 1.2. Please use get_feature_names_out instead.\n",
            "  warnings.warn(msg, category=FutureWarning)\n"
          ]
        },
        {
          "output_type": "stream",
          "name": "stdout",
          "text": [
            "(1821, 13343)\n"
          ]
        }
      ]
    },
    {
      "cell_type": "code",
      "source": [
        "#Algorithms\n",
        "#(1) MultinominalNB\n",
        "mnb = MultinomialNB()\n",
        "#(2) SVM\n",
        "svm = LinearSVC()\n",
        "#(3) KNN\n",
        "knn = KNeighborsClassifier(n_neighbors=5,n_jobs=-1)\n",
        "#(4) Decision tree\n",
        "dt = DecisionTreeClassifier()\n",
        "#(5) Random Forest\n",
        "rf = RandomForestClassifier()\n",
        "#(6) XGBoost\n",
        "xgb = XGBClassifier()\n",
        "\n",
        "#split the data\n",
        "x_train, x_test, y_train, y_test = train_test_split(X_tfidf_df, train_df['Sentiment'].values,\n",
        "                                                test_size=0.2, random_state=42)\n",
        "import numpy as np\n",
        "from sklearn.model_selection import cross_val_score, KFold\n",
        "def cross_validation_score(modelName, x, y):\n",
        "  scoring = 'accuracy'\n",
        "  kfold = KFold(10, random_state = 7,shuffle=True)\n",
        "  cross_val = cross_val_score(modelName, x, y, cv=kfold).mean()\n",
        "  return cross_val"
      ],
      "metadata": {
        "id": "8mQN82YZXeMe"
      },
      "execution_count": 5,
      "outputs": []
    },
    {
      "cell_type": "code",
      "source": [
        "#(1) MultinominalNB\n",
        "from sklearn.metrics import accuracy_score\n",
        "from sklearn.metrics import classification_report\n",
        "mnb_test = mnb.fit(x_train,y_train)\n",
        "y_mnb = mnb_test.predict(x_test)\n",
        "print('Accuracy Score %s' % accuracy_score(y_mnb,y_test))\n",
        "print(classification_report(y_test,y_mnb))\n",
        "from sklearn.model_selection import cross_val_score\n",
        "scores_MNB = cross_val_score(mnb, x_test, y_test, cv=10)\n",
        "kfold = KFold(10, random_state = 7, shuffle=True)\n",
        "print(\"Accuracy with MNB\",scores_MNB.mean())\n",
        "mnb_scores_mean = cross_validation_score(mnb,x_test,y_test)\n",
        "print('MNB Cross Validation Score is {0}'.format(mnb_scores_mean))\n",
        "test_predicted_mnb = mnb.predict(x_test)\n",
        "test_accuracy_mnb = round(accuracy_score(test_predicted_mnb, y_test),4)*100\n",
        "print(\"Testing Data\")\n",
        "print(\"Accuracy - \", test_accuracy_mnb)\n",
        "print(classification_report(y_test, test_predicted_mnb))"
      ],
      "metadata": {
        "colab": {
          "base_uri": "https://localhost:8080/"
        },
        "id": "lmZB5tX6Xs8i",
        "outputId": "85d9a0ba-162c-4a3f-9927-802f464d2354"
      },
      "execution_count": 6,
      "outputs": [
        {
          "output_type": "stream",
          "name": "stdout",
          "text": [
            "Accuracy Score 0.7955202312138728\n",
            "              precision    recall  f1-score   support\n",
            "\n",
            "           0       0.85      0.70      0.77       671\n",
            "           1       0.76      0.88      0.82       713\n",
            "\n",
            "    accuracy                           0.80      1384\n",
            "   macro avg       0.80      0.79      0.79      1384\n",
            "weighted avg       0.80      0.80      0.79      1384\n",
            "\n",
            "Accuracy with MNB 0.7247054530288813\n",
            "MNB Cross Validation Score is 0.7138828067980398\n",
            "Testing Data\n",
            "Accuracy -  79.55\n",
            "              precision    recall  f1-score   support\n",
            "\n",
            "           0       0.85      0.70      0.77       671\n",
            "           1       0.76      0.88      0.82       713\n",
            "\n",
            "    accuracy                           0.80      1384\n",
            "   macro avg       0.80      0.79      0.79      1384\n",
            "weighted avg       0.80      0.80      0.79      1384\n",
            "\n"
          ]
        }
      ]
    },
    {
      "cell_type": "code",
      "source": [
        "#(2) SVM\n",
        "svm_test = svm.fit(x_train,y_train)\n",
        "y_svm = svm_test.predict(x_test)\n",
        "print('Accuracy Score %s' % accuracy_score(y_svm,y_test))\n",
        "print(classification_report(y_test,y_svm))\n",
        "from sklearn.model_selection import cross_val_score\n",
        "scores_SVM = cross_val_score(svm, x_test, y_test, cv=10)\n",
        "print(\"Accuracy with SVM\",scores_SVM.mean())\n",
        "svm_scores_mean = cross_validation_score(svm, x_test,y_test)\n",
        "print('SVM Cross Validation Score is {0}'.format(svm_scores_mean))\n",
        "test_predicted_svm = svm.predict(x_test)\n",
        "test_accuracy_svm = round(accuracy_score(test_predicted_svm, y_test),4)*100\n",
        "print(\"Testing Data\")\n",
        "print(\"Accuracy - \", test_accuracy_svm)\n",
        "print(classification_report(y_test, test_predicted_svm))"
      ],
      "metadata": {
        "colab": {
          "base_uri": "https://localhost:8080/"
        },
        "id": "zBI2VaVxXyYO",
        "outputId": "c20f18fd-6622-4ac2-b0f3-e2022378c07f"
      },
      "execution_count": 7,
      "outputs": [
        {
          "output_type": "stream",
          "name": "stdout",
          "text": [
            "Accuracy Score 0.791907514450867\n",
            "              precision    recall  f1-score   support\n",
            "\n",
            "           0       0.81      0.75      0.78       671\n",
            "           1       0.78      0.83      0.80       713\n",
            "\n",
            "    accuracy                           0.79      1384\n",
            "   macro avg       0.79      0.79      0.79      1384\n",
            "weighted avg       0.79      0.79      0.79      1384\n",
            "\n",
            "Accuracy with SVM 0.7348034615785632\n",
            "SVM Cross Validation Score is 0.7348451673443853\n",
            "Testing Data\n",
            "Accuracy -  79.19\n",
            "              precision    recall  f1-score   support\n",
            "\n",
            "           0       0.81      0.75      0.78       671\n",
            "           1       0.78      0.83      0.80       713\n",
            "\n",
            "    accuracy                           0.79      1384\n",
            "   macro avg       0.79      0.79      0.79      1384\n",
            "weighted avg       0.79      0.79      0.79      1384\n",
            "\n"
          ]
        }
      ]
    },
    {
      "cell_type": "code",
      "source": [
        "#KNN Model\n",
        "knn_test = knn.fit(x_train,y_train)\n",
        "y_knn = knn_test.predict(x_test)\n",
        "print('Accuracy Score %s' % accuracy_score(y_knn,y_test))\n",
        "print(classification_report(y_test,y_knn))\n",
        "from sklearn.model_selection import cross_val_score\n",
        "scores_KNN = cross_val_score(knn, x_test, y_test, cv=10)\n",
        "print(\"Accuracy with knn\",scores_KNN.mean())\n",
        "knn_scores_mean = cross_validation_score(knn, x_test,y_test)\n",
        "print('KNN Cross Validation Score is {0}'.format(knn_scores_mean))\n",
        "test_predicted_knn = knn.predict(x_test)\n",
        "test_accuracy_knn = round(accuracy_score(test_predicted_knn, y_test),4)*100\n",
        "print(\"Testing Data\")\n",
        "print(\"Accuracy - \", test_accuracy_knn)\n",
        "print(classification_report(y_test, test_predicted_knn))"
      ],
      "metadata": {
        "colab": {
          "base_uri": "https://localhost:8080/"
        },
        "id": "lBo3gNPxX2Gy",
        "outputId": "0f8c8b94-3663-462e-f300-13cc1d503474"
      },
      "execution_count": 8,
      "outputs": [
        {
          "output_type": "stream",
          "name": "stdout",
          "text": [
            "Accuracy Score 0.740606936416185\n",
            "              precision    recall  f1-score   support\n",
            "\n",
            "           0       0.75      0.71      0.73       671\n",
            "           1       0.74      0.77      0.75       713\n",
            "\n",
            "    accuracy                           0.74      1384\n",
            "   macro avg       0.74      0.74      0.74      1384\n",
            "weighted avg       0.74      0.74      0.74      1384\n",
            "\n",
            "Accuracy with knn 0.6675737670732979\n",
            "KNN Cross Validation Score is 0.6669325409237826\n",
            "Testing Data\n",
            "Accuracy -  74.06\n",
            "              precision    recall  f1-score   support\n",
            "\n",
            "           0       0.75      0.71      0.73       671\n",
            "           1       0.74      0.77      0.75       713\n",
            "\n",
            "    accuracy                           0.74      1384\n",
            "   macro avg       0.74      0.74      0.74      1384\n",
            "weighted avg       0.74      0.74      0.74      1384\n",
            "\n"
          ]
        }
      ]
    },
    {
      "cell_type": "code",
      "source": [
        "#(4) Decision tree\n",
        "des_tree_test = dt.fit(x_train,y_train)\n",
        "y_des_tree = des_tree_test.predict(x_test)\n",
        "print('Accuracy Score %s' % accuracy_score(y_des_tree,y_test))\n",
        "print(classification_report(y_test,y_des_tree))\n",
        "scores_DT = cross_val_score(dt, x_test, y_test, cv=10)\n",
        "print(\"Accuracy obtained with Decision trees\",scores_DT.mean())\n",
        "dt_scores_mean = cross_validation_score(dt, x_test,y_test)\n",
        "print('Decision Tree obtained Cross Validation Score is {0}'.format(dt_scores_mean))\n",
        "test_predicted_dt = dt.predict(x_test)\n",
        "test_accuracy_dt = round(accuracy_score(test_predicted_dt, y_test),4)*100\n",
        "print(\"Testing Data\")\n",
        "print(\"Accuracy - \", test_accuracy_dt)\n",
        "print(classification_report(y_test, test_predicted_dt))"
      ],
      "metadata": {
        "colab": {
          "base_uri": "https://localhost:8080/"
        },
        "id": "Hf-LoSqXX7EO",
        "outputId": "34c01f41-615e-4df8-b326-7b218c22cae3"
      },
      "execution_count": 9,
      "outputs": [
        {
          "output_type": "stream",
          "name": "stdout",
          "text": [
            "Accuracy Score 0.6567919075144508\n",
            "              precision    recall  f1-score   support\n",
            "\n",
            "           0       0.66      0.62      0.63       671\n",
            "           1       0.66      0.70      0.68       713\n",
            "\n",
            "    accuracy                           0.66      1384\n",
            "   macro avg       0.66      0.66      0.66      1384\n",
            "weighted avg       0.66      0.66      0.66      1384\n",
            "\n",
            "Accuracy with Decision trees 0.6076113022625378\n",
            "Decision Tree Cross Validation Score is 0.5860025023459493\n",
            "Testing Data\n",
            "Accuracy -  65.68\n",
            "              precision    recall  f1-score   support\n",
            "\n",
            "           0       0.66      0.62      0.63       671\n",
            "           1       0.66      0.70      0.68       713\n",
            "\n",
            "    accuracy                           0.66      1384\n",
            "   macro avg       0.66      0.66      0.66      1384\n",
            "weighted avg       0.66      0.66      0.66      1384\n",
            "\n"
          ]
        }
      ]
    },
    {
      "cell_type": "code",
      "source": [
        "#(5) Random Forest\n",
        "rf_test = rf.fit(x_train,y_train)\n",
        "y_rf = rf_test.predict(x_test)\n",
        "print('Accuracy Score %s' % accuracy_score(y_rf,y_test))\n",
        "print(classification_report(y_test,y_rf))\n",
        "scores_RF = cross_val_score(rf, x_test, y_test, cv=10)\n",
        "print(\"Accuracy obtained with Random Forest\",scores_RF.mean())\n",
        "rf_scores_mean = cross_validation_score(rf, x_test,y_test)\n",
        "print('Random Forest obtained Cross Validation Score is {0}'.format(rf_scores_mean))\n",
        "test_predicted_rf = rf.predict(x_test)\n",
        "test_accuracy_rf = round(accuracy_score(test_predicted_rf, y_test),4)*100\n",
        "print(\"Testing Data\")\n",
        "print(\"Accuracy - \", test_accuracy_rf)\n",
        "print(classification_report(y_test, test_predicted_rf))"
      ],
      "metadata": {
        "colab": {
          "base_uri": "https://localhost:8080/"
        },
        "id": "d4CXoT_0YPk6",
        "outputId": "fd74e8bb-0bc6-4d67-e038-df407491ae23"
      },
      "execution_count": 10,
      "outputs": [
        {
          "output_type": "stream",
          "name": "stdout",
          "text": [
            "Accuracy Score 0.7492774566473989\n",
            "              precision    recall  f1-score   support\n",
            "\n",
            "           0       0.80      0.65      0.71       671\n",
            "           1       0.72      0.85      0.78       713\n",
            "\n",
            "    accuracy                           0.75      1384\n",
            "   macro avg       0.76      0.75      0.75      1384\n",
            "weighted avg       0.76      0.75      0.75      1384\n",
            "\n",
            "Accuracy with Random Forest 0.6762485663642999\n",
            "Random Forest Cross Validation Score is 0.6784485455114169\n",
            "Testing Data\n",
            "Accuracy -  74.92999999999999\n",
            "              precision    recall  f1-score   support\n",
            "\n",
            "           0       0.80      0.65      0.71       671\n",
            "           1       0.72      0.85      0.78       713\n",
            "\n",
            "    accuracy                           0.75      1384\n",
            "   macro avg       0.76      0.75      0.75      1384\n",
            "weighted avg       0.76      0.75      0.75      1384\n",
            "\n"
          ]
        }
      ]
    },
    {
      "cell_type": "code",
      "source": [
        "#(6) XGBoost\n",
        "xgb_test = xgb.fit(x_train,y_train)\n",
        "y_xgb = xgb_test.predict(x_test)\n",
        "print('Accuracy Score %s' % accuracy_score(y_xgb,y_test))\n",
        "print(classification_report(y_test,y_xgb))\n",
        "scores_XGB = cross_val_score(xgb, x_test, y_test, cv=10)\n",
        "print(\"Accuracy with XGBoost\",scores_XGB.mean())\n",
        "xgb_scores_mean = cross_validation_score(xgb, x_test,y_test)\n",
        "print('XGBoost Cross Validation Score is {0}'.format(xgb_scores_mean))\n",
        "test_predicted_xgb = xgb.predict(x_test)\n",
        "test_accuracy_xgb = round(accuracy_score(test_predicted_xgb, y_test),4)*100\n",
        "print(\"Testing Data\")\n",
        "print(\"Accuracy - \", test_accuracy_xgb)\n",
        "print(classification_report(y_test, test_predicted_xgb))"
      ],
      "metadata": {
        "colab": {
          "base_uri": "https://localhost:8080/"
        },
        "id": "MMG7ffy_YkNp",
        "outputId": "0b09adeb-710b-4b57-98a8-12ec9f7c50eb"
      },
      "execution_count": 11,
      "outputs": [
        {
          "output_type": "stream",
          "name": "stdout",
          "text": [
            "Accuracy Score 0.6445086705202312\n",
            "              precision    recall  f1-score   support\n",
            "\n",
            "           0       0.75      0.40      0.52       671\n",
            "           1       0.61      0.88      0.72       713\n",
            "\n",
            "    accuracy                           0.64      1384\n",
            "   macro avg       0.68      0.64      0.62      1384\n",
            "weighted avg       0.68      0.64      0.62      1384\n",
            "\n",
            "Accuracy with XGBoost 0.6184704410384736\n",
            "XGBoost Cross Validation Score is 0.614211239703889\n",
            "Testing Data\n",
            "Accuracy -  64.45\n",
            "              precision    recall  f1-score   support\n",
            "\n",
            "           0       0.75      0.40      0.52       671\n",
            "           1       0.61      0.88      0.72       713\n",
            "\n",
            "    accuracy                           0.64      1384\n",
            "   macro avg       0.68      0.64      0.62      1384\n",
            "weighted avg       0.68      0.64      0.62      1384\n",
            "\n"
          ]
        }
      ]
    },
    {
      "cell_type": "code",
      "source": [
        "print(\"Accuracy obtained with MNB\",scores_MNB.mean())\n",
        "print(\"Accuracy obtained with SVM\",scores_SVM.mean())\n",
        "print(\"Accuracy obtained with knn\",scores_KNN.mean())\n",
        "print(\"Accuracy obtained with Decision trees\",scores_DT.mean())\n",
        "print(\"Accuracy obtained with Random Forest\",scores_RF.mean())\n",
        "print(\"Accuracy obtained with XGBoost\",scores_XGB.mean())"
      ],
      "metadata": {
        "colab": {
          "base_uri": "https://localhost:8080/"
        },
        "id": "gixXaPRaZKwb",
        "outputId": "ad490251-2685-4158-b83f-5ff1cf608438"
      },
      "execution_count": 12,
      "outputs": [
        {
          "output_type": "stream",
          "name": "stdout",
          "text": [
            "Accuracy obtained with MNB 0.7247054530288813\n",
            "Accuracy obtained with SVM 0.7348034615785632\n",
            "Accuracy obtained with knn 0.6675737670732979\n",
            "Accuracy obtained with Decision trees 0.6076113022625378\n",
            "Accuracy obtained with Random Forest 0.6762485663642999\n",
            "Accuracy obtained with XGBoost 0.6184704410384736\n"
          ]
        }
      ]
    },
    {
      "cell_type": "code",
      "source": [
        "predict_svm = svm_test.predict(X_test_tfidf)\n",
        "print('High accuracy final model trained(SVM) evaluated on the test data: %s' % accuracy_score(predict_svm,test_df['Sentiment']))"
      ],
      "metadata": {
        "colab": {
          "base_uri": "https://localhost:8080/"
        },
        "id": "ky3ix0nGbNhF",
        "outputId": "3bc95690-08cf-4062-dd0e-67e23e28d90e"
      },
      "execution_count": 14,
      "outputs": [
        {
          "output_type": "stream",
          "name": "stdout",
          "text": [
            "High accuracy final model trained(SVM) evaluated on the test data: 0.7891268533772653\n"
          ]
        },
        {
          "output_type": "stream",
          "name": "stderr",
          "text": [
            "/usr/local/lib/python3.7/dist-packages/sklearn/base.py:451: UserWarning: X does not have valid feature names, but LinearSVC was fitted with feature names\n",
            "  \"X does not have valid feature names, but\"\n"
          ]
        }
      ]
    },
    {
      "cell_type": "markdown",
      "metadata": {
        "id": "KfneqPwTVS1U"
      },
      "source": [
        "(20 points) The purpose of the question is to practice different machine learning algorithms for text clustering\n",
        "Please downlad the dataset by using the following link.  https://www.kaggle.com/PromptCloudHQ/amazon-reviews-unlocked-mobile-phones\n",
        "(You can also use different text data which you want)\n",
        "\n",
        "Apply the listed clustering methods to the dataset:\n",
        "\n",
        "K means, \n",
        "DBSCAN,\n",
        "Hierarchical clustering. \n",
        "\n",
        "You can refer to of the codes from  the follwing link below. \n",
        "https://www.kaggle.com/karthik3890/text-clustering "
      ]
    },
    {
      "cell_type": "code",
      "execution_count": 16,
      "metadata": {
        "colab": {
          "base_uri": "https://localhost:8080/",
          "height": 659
        },
        "id": "cIlAw18kVS1V",
        "outputId": "41259db0-a29b-4244-c014-e7ce23e5d9be"
      },
      "outputs": [
        {
          "output_type": "execute_result",
          "data": {
            "text/plain": [
              "                                         Product Name Brand Name   Price  \\\n",
              "0   \"CLEAR CLEAN ESN\" Sprint EPIC 4G Galaxy SPH-D7...    Samsung  199.99   \n",
              "1   \"CLEAR CLEAN ESN\" Sprint EPIC 4G Galaxy SPH-D7...    Samsung  199.99   \n",
              "2   \"CLEAR CLEAN ESN\" Sprint EPIC 4G Galaxy SPH-D7...    Samsung  199.99   \n",
              "3   \"CLEAR CLEAN ESN\" Sprint EPIC 4G Galaxy SPH-D7...    Samsung  199.99   \n",
              "4   \"CLEAR CLEAN ESN\" Sprint EPIC 4G Galaxy SPH-D7...    Samsung  199.99   \n",
              "..                                                ...        ...     ...   \n",
              "95  \"Nokia Asha 302 Unlocked GSM Phone with 3.2MP ...      Nokia  299.00   \n",
              "96  \"Nokia Asha 302 Unlocked GSM Phone with 3.2MP ...      Nokia  299.00   \n",
              "97  \"Nokia Asha 302 Unlocked GSM Phone with 3.2MP ...      Nokia  299.00   \n",
              "98  \"Nokia Asha 302 Unlocked GSM Phone with 3.2MP ...      Nokia  299.00   \n",
              "99  \"Nokia Asha 302 Unlocked GSM Phone with 3.2MP ...      Nokia  299.00   \n",
              "\n",
              "    Rating                                            Reviews  Review Votes  \n",
              "0      5.0  I feel so LUCKY to have found this used (phone...           1.0  \n",
              "1      4.0  nice phone, nice up grade from my pantach revu...           0.0  \n",
              "2      5.0                                       Very pleased           0.0  \n",
              "3      4.0  It works good but it goes slow sometimes but i...           0.0  \n",
              "4      4.0  Great phone to replace my lost phone. The only...           0.0  \n",
              "..     ...                                                ...           ...  \n",
              "95     5.0                                          very well           0.0  \n",
              "96     1.0                      Cannot connect to GSM network           0.0  \n",
              "97     4.0  This cell phone exceeded my expectations, it's...           1.0  \n",
              "98     4.0  pros.. it works fine, its easy to use, not too...           1.0  \n",
              "99     5.0  I went through lots of reviews for different p...           1.0  \n",
              "\n",
              "[100 rows x 6 columns]"
            ],
            "text/html": [
              "\n",
              "  <div id=\"df-172a9105-f18c-4e0c-bc34-c5d3260d67b2\">\n",
              "    <div class=\"colab-df-container\">\n",
              "      <div>\n",
              "<style scoped>\n",
              "    .dataframe tbody tr th:only-of-type {\n",
              "        vertical-align: middle;\n",
              "    }\n",
              "\n",
              "    .dataframe tbody tr th {\n",
              "        vertical-align: top;\n",
              "    }\n",
              "\n",
              "    .dataframe thead th {\n",
              "        text-align: right;\n",
              "    }\n",
              "</style>\n",
              "<table border=\"1\" class=\"dataframe\">\n",
              "  <thead>\n",
              "    <tr style=\"text-align: right;\">\n",
              "      <th></th>\n",
              "      <th>Product Name</th>\n",
              "      <th>Brand Name</th>\n",
              "      <th>Price</th>\n",
              "      <th>Rating</th>\n",
              "      <th>Reviews</th>\n",
              "      <th>Review Votes</th>\n",
              "    </tr>\n",
              "  </thead>\n",
              "  <tbody>\n",
              "    <tr>\n",
              "      <th>0</th>\n",
              "      <td>\"CLEAR CLEAN ESN\" Sprint EPIC 4G Galaxy SPH-D7...</td>\n",
              "      <td>Samsung</td>\n",
              "      <td>199.99</td>\n",
              "      <td>5.0</td>\n",
              "      <td>I feel so LUCKY to have found this used (phone...</td>\n",
              "      <td>1.0</td>\n",
              "    </tr>\n",
              "    <tr>\n",
              "      <th>1</th>\n",
              "      <td>\"CLEAR CLEAN ESN\" Sprint EPIC 4G Galaxy SPH-D7...</td>\n",
              "      <td>Samsung</td>\n",
              "      <td>199.99</td>\n",
              "      <td>4.0</td>\n",
              "      <td>nice phone, nice up grade from my pantach revu...</td>\n",
              "      <td>0.0</td>\n",
              "    </tr>\n",
              "    <tr>\n",
              "      <th>2</th>\n",
              "      <td>\"CLEAR CLEAN ESN\" Sprint EPIC 4G Galaxy SPH-D7...</td>\n",
              "      <td>Samsung</td>\n",
              "      <td>199.99</td>\n",
              "      <td>5.0</td>\n",
              "      <td>Very pleased</td>\n",
              "      <td>0.0</td>\n",
              "    </tr>\n",
              "    <tr>\n",
              "      <th>3</th>\n",
              "      <td>\"CLEAR CLEAN ESN\" Sprint EPIC 4G Galaxy SPH-D7...</td>\n",
              "      <td>Samsung</td>\n",
              "      <td>199.99</td>\n",
              "      <td>4.0</td>\n",
              "      <td>It works good but it goes slow sometimes but i...</td>\n",
              "      <td>0.0</td>\n",
              "    </tr>\n",
              "    <tr>\n",
              "      <th>4</th>\n",
              "      <td>\"CLEAR CLEAN ESN\" Sprint EPIC 4G Galaxy SPH-D7...</td>\n",
              "      <td>Samsung</td>\n",
              "      <td>199.99</td>\n",
              "      <td>4.0</td>\n",
              "      <td>Great phone to replace my lost phone. The only...</td>\n",
              "      <td>0.0</td>\n",
              "    </tr>\n",
              "    <tr>\n",
              "      <th>...</th>\n",
              "      <td>...</td>\n",
              "      <td>...</td>\n",
              "      <td>...</td>\n",
              "      <td>...</td>\n",
              "      <td>...</td>\n",
              "      <td>...</td>\n",
              "    </tr>\n",
              "    <tr>\n",
              "      <th>95</th>\n",
              "      <td>\"Nokia Asha 302 Unlocked GSM Phone with 3.2MP ...</td>\n",
              "      <td>Nokia</td>\n",
              "      <td>299.00</td>\n",
              "      <td>5.0</td>\n",
              "      <td>very well</td>\n",
              "      <td>0.0</td>\n",
              "    </tr>\n",
              "    <tr>\n",
              "      <th>96</th>\n",
              "      <td>\"Nokia Asha 302 Unlocked GSM Phone with 3.2MP ...</td>\n",
              "      <td>Nokia</td>\n",
              "      <td>299.00</td>\n",
              "      <td>1.0</td>\n",
              "      <td>Cannot connect to GSM network</td>\n",
              "      <td>0.0</td>\n",
              "    </tr>\n",
              "    <tr>\n",
              "      <th>97</th>\n",
              "      <td>\"Nokia Asha 302 Unlocked GSM Phone with 3.2MP ...</td>\n",
              "      <td>Nokia</td>\n",
              "      <td>299.00</td>\n",
              "      <td>4.0</td>\n",
              "      <td>This cell phone exceeded my expectations, it's...</td>\n",
              "      <td>1.0</td>\n",
              "    </tr>\n",
              "    <tr>\n",
              "      <th>98</th>\n",
              "      <td>\"Nokia Asha 302 Unlocked GSM Phone with 3.2MP ...</td>\n",
              "      <td>Nokia</td>\n",
              "      <td>299.00</td>\n",
              "      <td>4.0</td>\n",
              "      <td>pros.. it works fine, its easy to use, not too...</td>\n",
              "      <td>1.0</td>\n",
              "    </tr>\n",
              "    <tr>\n",
              "      <th>99</th>\n",
              "      <td>\"Nokia Asha 302 Unlocked GSM Phone with 3.2MP ...</td>\n",
              "      <td>Nokia</td>\n",
              "      <td>299.00</td>\n",
              "      <td>5.0</td>\n",
              "      <td>I went through lots of reviews for different p...</td>\n",
              "      <td>1.0</td>\n",
              "    </tr>\n",
              "  </tbody>\n",
              "</table>\n",
              "<p>100 rows × 6 columns</p>\n",
              "</div>\n",
              "      <button class=\"colab-df-convert\" onclick=\"convertToInteractive('df-172a9105-f18c-4e0c-bc34-c5d3260d67b2')\"\n",
              "              title=\"Convert this dataframe to an interactive table.\"\n",
              "              style=\"display:none;\">\n",
              "        \n",
              "  <svg xmlns=\"http://www.w3.org/2000/svg\" height=\"24px\"viewBox=\"0 0 24 24\"\n",
              "       width=\"24px\">\n",
              "    <path d=\"M0 0h24v24H0V0z\" fill=\"none\"/>\n",
              "    <path d=\"M18.56 5.44l.94 2.06.94-2.06 2.06-.94-2.06-.94-.94-2.06-.94 2.06-2.06.94zm-11 1L8.5 8.5l.94-2.06 2.06-.94-2.06-.94L8.5 2.5l-.94 2.06-2.06.94zm10 10l.94 2.06.94-2.06 2.06-.94-2.06-.94-.94-2.06-.94 2.06-2.06.94z\"/><path d=\"M17.41 7.96l-1.37-1.37c-.4-.4-.92-.59-1.43-.59-.52 0-1.04.2-1.43.59L10.3 9.45l-7.72 7.72c-.78.78-.78 2.05 0 2.83L4 21.41c.39.39.9.59 1.41.59.51 0 1.02-.2 1.41-.59l7.78-7.78 2.81-2.81c.8-.78.8-2.07 0-2.86zM5.41 20L4 18.59l7.72-7.72 1.47 1.35L5.41 20z\"/>\n",
              "  </svg>\n",
              "      </button>\n",
              "      \n",
              "  <style>\n",
              "    .colab-df-container {\n",
              "      display:flex;\n",
              "      flex-wrap:wrap;\n",
              "      gap: 12px;\n",
              "    }\n",
              "\n",
              "    .colab-df-convert {\n",
              "      background-color: #E8F0FE;\n",
              "      border: none;\n",
              "      border-radius: 50%;\n",
              "      cursor: pointer;\n",
              "      display: none;\n",
              "      fill: #1967D2;\n",
              "      height: 32px;\n",
              "      padding: 0 0 0 0;\n",
              "      width: 32px;\n",
              "    }\n",
              "\n",
              "    .colab-df-convert:hover {\n",
              "      background-color: #E2EBFA;\n",
              "      box-shadow: 0px 1px 2px rgba(60, 64, 67, 0.3), 0px 1px 3px 1px rgba(60, 64, 67, 0.15);\n",
              "      fill: #174EA6;\n",
              "    }\n",
              "\n",
              "    [theme=dark] .colab-df-convert {\n",
              "      background-color: #3B4455;\n",
              "      fill: #D2E3FC;\n",
              "    }\n",
              "\n",
              "    [theme=dark] .colab-df-convert:hover {\n",
              "      background-color: #434B5C;\n",
              "      box-shadow: 0px 1px 3px 1px rgba(0, 0, 0, 0.15);\n",
              "      filter: drop-shadow(0px 1px 2px rgba(0, 0, 0, 0.3));\n",
              "      fill: #FFFFFF;\n",
              "    }\n",
              "  </style>\n",
              "\n",
              "      <script>\n",
              "        const buttonEl =\n",
              "          document.querySelector('#df-172a9105-f18c-4e0c-bc34-c5d3260d67b2 button.colab-df-convert');\n",
              "        buttonEl.style.display =\n",
              "          google.colab.kernel.accessAllowed ? 'block' : 'none';\n",
              "\n",
              "        async function convertToInteractive(key) {\n",
              "          const element = document.querySelector('#df-172a9105-f18c-4e0c-bc34-c5d3260d67b2');\n",
              "          const dataTable =\n",
              "            await google.colab.kernel.invokeFunction('convertToInteractive',\n",
              "                                                     [key], {});\n",
              "          if (!dataTable) return;\n",
              "\n",
              "          const docLinkHtml = 'Like what you see? Visit the ' +\n",
              "            '<a target=\"_blank\" href=https://colab.research.google.com/notebooks/data_table.ipynb>data table notebook</a>'\n",
              "            + ' to learn more about interactive tables.';\n",
              "          element.innerHTML = '';\n",
              "          dataTable['output_type'] = 'display_data';\n",
              "          await google.colab.output.renderOutput(dataTable, element);\n",
              "          const docLink = document.createElement('div');\n",
              "          docLink.innerHTML = docLinkHtml;\n",
              "          element.appendChild(docLink);\n",
              "        }\n",
              "      </script>\n",
              "    </div>\n",
              "  </div>\n",
              "  "
            ]
          },
          "metadata": {},
          "execution_count": 16
        }
      ],
      "source": [
        "import pandas as pd\n",
        "df = pd.read_csv(\"/content/Amazon_Unlocked_Mobile_Kamal.csv\")\n",
        "df.head(100)\n"
      ]
    },
    {
      "cell_type": "code",
      "source": [
        "# Text Preprocessing\n",
        "df['Text'] = df['Reviews'].apply(lambda x: \" \".join(x.lower() for x in str(x).split()))\n",
        "df['Text'] = df['Text'].str.replace('[^\\w\\s]','')\n",
        "from textblob import Word\n",
        "from nltk.corpus import stopwords\n",
        "import nltk\n",
        "nltk.download('stopwords')\n",
        "nltk.download('wordnet')\n",
        "stop = stopwords.words('english')\n",
        "df['Text'] = df['Text'].apply(lambda x: \" \".join(x for x in x.split() if x not in stop))\n",
        "df['Text'] = df['Text'].apply(lambda x: \" \".join([Word(word).lemmatize() for word in x.split()]))"
      ],
      "metadata": {
        "colab": {
          "base_uri": "https://localhost:8080/"
        },
        "id": "-y2vS9AodEPR",
        "outputId": "68fd251b-3e40-40b1-e358-f264053c22ba"
      },
      "execution_count": 17,
      "outputs": [
        {
          "output_type": "stream",
          "name": "stderr",
          "text": [
            "/usr/local/lib/python3.7/dist-packages/ipykernel_launcher.py:3: FutureWarning: The default value of regex will change from True to False in a future version.\n",
            "  This is separate from the ipykernel package so we can avoid doing imports until\n"
          ]
        },
        {
          "output_type": "stream",
          "name": "stdout",
          "text": [
            "[nltk_data] Downloading package stopwords to /root/nltk_data...\n",
            "[nltk_data]   Package stopwords is already up-to-date!\n",
            "[nltk_data] Downloading package wordnet to /root/nltk_data...\n",
            "[nltk_data]   Package wordnet is already up-to-date!\n"
          ]
        }
      ]
    },
    {
      "cell_type": "code",
      "source": [
        "df['Text'].head(10)"
      ],
      "metadata": {
        "colab": {
          "base_uri": "https://localhost:8080/"
        },
        "id": "C6jmtY39dGF4",
        "outputId": "a2130d4e-ca43-4f1d-dcb7-8535a4dfdeb0"
      },
      "execution_count": 18,
      "outputs": [
        {
          "output_type": "execute_result",
          "data": {
            "text/plain": [
              "0    feel lucky found used phone u used hard phone ...\n",
              "1    nice phone nice grade pantach revue clean set ...\n",
              "2                                              pleased\n",
              "3          work good go slow sometimes good phone love\n",
              "4    great phone replace lost phone thing volume bu...\n",
              "5    already phone problem know stated used dang st...\n",
              "6    charging port loose got soldered needed new ba...\n",
              "7    phone look good wouldnt stay charged buy new b...\n",
              "8    originally using samsung s2 galaxy sprint want...\n",
              "9    battery life great responsive touch issue some...\n",
              "Name: Text, dtype: object"
            ]
          },
          "metadata": {},
          "execution_count": 18
        }
      ]
    },
    {
      "cell_type": "code",
      "source": [
        "# TF-IDF \n",
        "from sklearn.feature_extraction.text import TfidfVectorizer\n",
        "tfidf_vect = TfidfVectorizer()\n",
        "tfidf_vects = tfidf_vect.fit_transform(df['Text'].values)"
      ],
      "metadata": {
        "id": "GD-ZvxFedxfx"
      },
      "execution_count": 19,
      "outputs": []
    },
    {
      "cell_type": "code",
      "source": [
        "names= tfidf_vect.get_feature_names()"
      ],
      "metadata": {
        "colab": {
          "base_uri": "https://localhost:8080/"
        },
        "id": "ygpHpOiId6ov",
        "outputId": "0cbf40b4-dd32-42ea-e173-c78ec06c3c42"
      },
      "execution_count": 20,
      "outputs": [
        {
          "output_type": "stream",
          "name": "stderr",
          "text": [
            "/usr/local/lib/python3.7/dist-packages/sklearn/utils/deprecation.py:87: FutureWarning: Function get_feature_names is deprecated; get_feature_names is deprecated in 1.0 and will be removed in 1.2. Please use get_feature_names_out instead.\n",
            "  warnings.warn(msg, category=FutureWarning)\n"
          ]
        }
      ]
    },
    {
      "cell_type": "code",
      "source": [
        "# K Means\n",
        "from sklearn.cluster import KMeans\n",
        "model = KMeans(n_clusters = 9,init='k-means++', max_iter=10000, random_state=50)\n",
        "model.fit(tfidf_vects)\n",
        "from collections import Counter\n",
        "Counter(model.labels_)"
      ],
      "metadata": {
        "colab": {
          "base_uri": "https://localhost:8080/"
        },
        "id": "fk-aovEtd8gS",
        "outputId": "d5a13c93-d8cd-4cf8-9b92-44eceb9d0dd8"
      },
      "execution_count": 26,
      "outputs": [
        {
          "output_type": "execute_result",
          "data": {
            "text/plain": [
              "Counter({0: 88701,\n",
              "         1: 8084,\n",
              "         2: 3604,\n",
              "         3: 6028,\n",
              "         4: 3641,\n",
              "         5: 2324,\n",
              "         6: 1933,\n",
              "         7: 7378,\n",
              "         8: 4452})"
            ]
          },
          "metadata": {},
          "execution_count": 26
        }
      ]
    },
    {
      "cell_type": "code",
      "source": [
        "labels = model.labels_\n",
        "cluster_center=model.cluster_centers_\n",
        "cluster_center"
      ],
      "metadata": {
        "colab": {
          "base_uri": "https://localhost:8080/"
        },
        "id": "jrT3hB0se2JP",
        "outputId": "4395def8-fe65-4e8a-a94a-2d63e96fb84b"
      },
      "execution_count": 27,
      "outputs": [
        {
          "output_type": "execute_result",
          "data": {
            "text/plain": [
              "array([[2.02222635e-05, 2.16010464e-06, 4.89909728e-06, ...,\n",
              "        2.30323648e-05, 3.90348675e-06, 3.90348675e-06],\n",
              "       [2.87103914e-05, 0.00000000e+00, 0.00000000e+00, ...,\n",
              "        0.00000000e+00, 0.00000000e+00, 0.00000000e+00],\n",
              "       [0.00000000e+00, 0.00000000e+00, 0.00000000e+00, ...,\n",
              "        0.00000000e+00, 0.00000000e+00, 0.00000000e+00],\n",
              "       ...,\n",
              "       [0.00000000e+00, 0.00000000e+00, 0.00000000e+00, ...,\n",
              "        0.00000000e+00, 0.00000000e+00, 0.00000000e+00],\n",
              "       [0.00000000e+00, 0.00000000e+00, 0.00000000e+00, ...,\n",
              "        0.00000000e+00, 0.00000000e+00, 0.00000000e+00],\n",
              "       [0.00000000e+00, 0.00000000e+00, 0.00000000e+00, ...,\n",
              "        0.00000000e+00, 0.00000000e+00, 0.00000000e+00]])"
            ]
          },
          "metadata": {},
          "execution_count": 27
        }
      ]
    },
    {
      "cell_type": "code",
      "source": [
        "from sklearn import metrics\n",
        "silhouette_score = metrics.silhouette_score(tfidf_vects, model.labels_, metric='euclidean')\n",
        "silhouette_score"
      ],
      "metadata": {
        "colab": {
          "base_uri": "https://localhost:8080/"
        },
        "id": "aS8mCQdKgaYQ",
        "outputId": "9699ae5d-4c41-4da0-c75b-4cfe62d88f65"
      },
      "execution_count": 28,
      "outputs": [
        {
          "output_type": "execute_result",
          "data": {
            "text/plain": [
              "0.06218635816460299"
            ]
          },
          "metadata": {},
          "execution_count": 28
        }
      ]
    },
    {
      "cell_type": "code",
      "source": [
        "#DBSCAN\n",
        "Text_reviews=[]\n",
        "for i in df['Text']:\n",
        "  Text_reviews.append(i.split())\n",
        "import gensim\n",
        "w2v_model=gensim.models.Word2Vec(Text_reviews, size=100, workers=4)"
      ],
      "metadata": {
        "id": "-8VDjrCogdT3"
      },
      "execution_count": 29,
      "outputs": []
    },
    {
      "cell_type": "code",
      "source": [
        "import numpy as np\n",
        "vectors = []\n",
        "for i in Text_reviews:\n",
        "    vector = np.zeros(100)\n",
        "    count = 0\n",
        "    for word in i:\n",
        "        try:\n",
        "            vec = w2v_model.wv[word]\n",
        "            vector += vec\n",
        "            count += 1\n",
        "        except:\n",
        "            pass\n",
        "    vector /= count\n",
        "    vectors.append(vector)  \n",
        "vectors = np.array(vectors)\n",
        "vectors = np.nan_to_num(vectors)"
      ],
      "metadata": {
        "colab": {
          "base_uri": "https://localhost:8080/"
        },
        "id": "n6trXKgXh4h2",
        "outputId": "faec09c6-144e-4300-8b50-7b3950cb7de8"
      },
      "execution_count": 30,
      "outputs": [
        {
          "output_type": "stream",
          "name": "stderr",
          "text": [
            "/usr/local/lib/python3.7/dist-packages/ipykernel_launcher.py:13: RuntimeWarning: invalid value encountered in true_divide\n",
            "  del sys.path[0]\n"
          ]
        }
      ]
    },
    {
      "cell_type": "code",
      "source": [
        "from sklearn.cluster import DBSCAN\n",
        "def lower_bound(nums, target): \n",
        "    l, r = 0, len(nums) - 1\n",
        "    while l <= r:\n",
        "        mid = int(l + (r - l) / 2)\n",
        "        if nums[mid] >= target:\n",
        "            r = mid - 1\n",
        "        else:\n",
        "            l = mid + 1\n",
        "    return l"
      ],
      "metadata": {
        "id": "lEesbszKh8TV"
      },
      "execution_count": 31,
      "outputs": []
    },
    {
      "cell_type": "code",
      "source": [
        "def compute200thnearestneighbour(x, data): \n",
        "    dists = []\n",
        "    for val in data:\n",
        "        dist = np.sum((x - val) **2 ) \n",
        "        if(len(dists) == 200 and dists[199] > dist): \n",
        "            l = int(lower_bound(dists, dist)) \n",
        "            if l < 200 and l >= 0 and dists[l] > dist:\n",
        "                dists[l] = dist\n",
        "        else:\n",
        "            dists.append(dist)\n",
        "            dists.sort()\n",
        "    \n",
        "    return dists[199]"
      ],
      "metadata": {
        "id": "FERV5PQWiELJ"
      },
      "execution_count": 32,
      "outputs": []
    },
    {
      "cell_type": "code",
      "source": [
        "vectors.shape"
      ],
      "metadata": {
        "colab": {
          "base_uri": "https://localhost:8080/"
        },
        "id": "XWH5_SO6iFXd",
        "outputId": "ae401611-8af9-4373-d7eb-0fd56d976776"
      },
      "execution_count": 33,
      "outputs": [
        {
          "output_type": "execute_result",
          "data": {
            "text/plain": [
              "(126145, 100)"
            ]
          },
          "metadata": {},
          "execution_count": 33
        }
      ]
    },
    {
      "cell_type": "code",
      "source": [
        "neighbor = []\n",
        "for val in vectors[:300]:\n",
        "    neighbor.append(compute200thnearestneighbour(val, vectors[:300]))\n",
        "neighbor.sort()"
      ],
      "metadata": {
        "id": "I30euvjAiIB_"
      },
      "execution_count": 34,
      "outputs": []
    },
    {
      "cell_type": "code",
      "source": [
        "%matplotlib inline\n",
        "from matplotlib import pyplot as plt"
      ],
      "metadata": {
        "id": "WaJEK5lRiMBF"
      },
      "execution_count": 35,
      "outputs": []
    },
    {
      "cell_type": "code",
      "source": [
        "# Plotting for the Elbow Method :\n",
        "plt.figure(figsize=(5,5))\n",
        "plt.title(\"Elbow Method\")\n",
        "plt.plot([x for x in range(len(neighbor))], neighbor)\n",
        "plt.xlabel(\"length\")\n",
        "plt.ylabel(\"Distance\")\n",
        "plt.show()"
      ],
      "metadata": {
        "colab": {
          "base_uri": "https://localhost:8080/",
          "height": 350
        },
        "id": "pnD432zviOcV",
        "outputId": "1ba078eb-da8b-4731-f55b-9d458e7bfb02"
      },
      "execution_count": 36,
      "outputs": [
        {
          "output_type": "display_data",
          "data": {
            "text/plain": [
              "<Figure size 360x360 with 1 Axes>"
            ],
            "image/png": "[encoded data removed]"
          },
          "metadata": {
            "needs_background": "light"
          }
        }
      ]
    },
    {
      "cell_type": "code",
      "source": [
        "#Hierarchical clustering\n",
        "import scipy\n",
        "from scipy.cluster import hierarchy\n",
        "dendro=hierarchy.dendrogram(hierarchy.linkage(vectors,method='ward'))\n",
        "plt.axhline(y=20)"
      ],
      "metadata": {
        "colab": {
          "base_uri": "https://localhost:8080/",
          "height": 217
        },
        "id": "QbJQExEriRP-",
        "outputId": "3b93c8b2-d86b-4ab3-d57a-8ba62385e162"
      },
      "execution_count": 1,
      "outputs": [
        {
          "output_type": "error",
          "ename": "NameError",
          "evalue": "ignored",
          "traceback": [
            "\u001b[0;31m---------------------------------------------------------------------------\u001b[0m",
            "\u001b[0;31mNameError\u001b[0m                                 Traceback (most recent call last)",
            "\u001b[0;32m<ipython-input-1-8d2efcf8e129>\u001b[0m in \u001b[0;36m<module>\u001b[0;34m()\u001b[0m\n\u001b[1;32m      2\u001b[0m \u001b[0;32mimport\u001b[0m \u001b[0mscipy\u001b[0m\u001b[0;34m\u001b[0m\u001b[0;34m\u001b[0m\u001b[0m\n\u001b[1;32m      3\u001b[0m \u001b[0;32mfrom\u001b[0m \u001b[0mscipy\u001b[0m\u001b[0;34m.\u001b[0m\u001b[0mcluster\u001b[0m \u001b[0;32mimport\u001b[0m \u001b[0mhierarchy\u001b[0m\u001b[0;34m\u001b[0m\u001b[0;34m\u001b[0m\u001b[0m\n\u001b[0;32m----> 4\u001b[0;31m \u001b[0mdendro\u001b[0m\u001b[0;34m=\u001b[0m\u001b[0mhierarchy\u001b[0m\u001b[0;34m.\u001b[0m\u001b[0mdendrogram\u001b[0m\u001b[0;34m(\u001b[0m\u001b[0mhierarchy\u001b[0m\u001b[0;34m.\u001b[0m\u001b[0mlinkage\u001b[0m\u001b[0;34m(\u001b[0m\u001b[0mvectors\u001b[0m\u001b[0;34m,\u001b[0m\u001b[0mmethod\u001b[0m\u001b[0;34m=\u001b[0m\u001b[0;34m'ward'\u001b[0m\u001b[0;34m)\u001b[0m\u001b[0;34m)\u001b[0m\u001b[0;34m\u001b[0m\u001b[0;34m\u001b[0m\u001b[0m\n\u001b[0m\u001b[1;32m      5\u001b[0m \u001b[0mplt\u001b[0m\u001b[0;34m.\u001b[0m\u001b[0maxhline\u001b[0m\u001b[0;34m(\u001b[0m\u001b[0my\u001b[0m\u001b[0;34m=\u001b[0m\u001b[0;36m20\u001b[0m\u001b[0;34m)\u001b[0m\u001b[0;34m\u001b[0m\u001b[0;34m\u001b[0m\u001b[0m\n",
            "\u001b[0;31mNameError\u001b[0m: name 'vectors' is not defined"
          ]
        }
      ]
    },
    {
      "cell_type": "markdown",
      "metadata": {
        "id": "HMvqHHQIVS1W"
      },
      "source": [
        "In one paragraph, please compare K means, DBSCAN and Hierarchical clustering."
      ]
    },
    {
      "cell_type": "code",
      "execution_count": null,
      "metadata": {
        "id": "KF5dEjfZVS1X"
      },
      "outputs": [],
      "source": [
        "Using clustering in Unsupervised Machine Learning, all the data points are grouped into one cluster based on the amount of similarity in the dataset.\n",
        "Clustering is referred to as K. All the data points in a sample space are partitioned into K groups of similarity using this algorithm.\n",
        "Euclidian Distance is commonly used to measure similarity.\n",
        "DBSCAN: As the name suggests, this algorithm uses density based clustering, which means that each point within a given radius (R) must have at least one other point in it (M).\n",
        "Detecting outliers and dealing with noise has proven to be extremely effective with this algorithm.\n",
        "Using Heirarchial Clustering, all of the similar objects were grouped into distinct clusters that were distinct from one another. The following is how Heirarchical Clustering works:\n",
        "\n",
        "Each observation is treated as a distinct cluster in hierarchical clustering. Afterwards, it repeatedly performs the next two steps: In order to merge the two clusters that are the most similar, you first need to identify the two clusters that are closest together.\n",
        "All clusters must be combined in this iterative process.\n",
        "\n"
      ]
    }
  ],
  "metadata": {
    "kernelspec": {
      "display_name": "Python 3",
      "language": "python",
      "name": "python3"
    },
    "language_info": {
      "codemirror_mode": {
        "name": "ipython",
        "version": 3
      },
      "file_extension": ".py",
      "mimetype": "text/x-python",
      "name": "python",
      "nbconvert_exporter": "python",
      "pygments_lexer": "ipython3",
      "version": "3.8.5"
    },
    "colab": {
      "name": "In_class_exercise_05-2.ipynb",
      "provenance": [],
      "include_colab_link": true
    }
  },
  "nbformat": 4,
  "nbformat_minor": 0
}